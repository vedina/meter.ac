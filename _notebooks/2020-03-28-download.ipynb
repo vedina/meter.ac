{
 "cells": [
  {
   "cell_type": "markdown",
   "metadata": {},
   "source": [
    "# meter.ac\n",
    "> test fastpages with meter.ac\n",
    "\n",
    "- toc: true\n",
    "- branch: master\n",
    "- badges: true\n",
    "- comments: true\n",
    "- author: Nina Jeliakzova\n",
    "- categories: [meter.ac, weather]\n",
    "- image: images/logo.png\n",
    "- hide: false\n",
    "- search_exclude: true\n",
    "- metadata_key1: metadata_value1\n",
    "- metadata_key2: metadata_value2"
   ]
  },
  {
   "cell_type": "markdown",
   "metadata": {},
   "source": [
    "```\n",
    "curl -H \"Accept: application/csv\" -G \"https://meter.uni-plovdiv.net/query?db=meter&u=client&p=pvY6wQNcT8cqDEfZ\" --data-urlencode \"q=select * from box where location = 'Bansko' and time > now() - 24h\" -o bansko.csv\n",
    "```"
   ]
  },
  {
   "cell_type": "code",
   "execution_count": null,
   "metadata": {},
   "outputs": [],
   "source": [
    "#hide\n",
    "client='client'\n",
    "p='pvY6wQNcT8cqDEfZ'\n"
   ]
  },
  {
   "cell_type": "code",
   "execution_count": null,
   "metadata": {},
   "outputs": [],
   "source": [
    "location='Bansko'\n",
    "time_interval=\"24h\""
   ]
  },
  {
   "cell_type": "code",
   "execution_count": null,
   "metadata": {},
   "outputs": [],
   "source": [
    "import requests\n",
    "\n",
    "url = \"https://meter.uni-plovdiv.net/query\"\n",
    "query= \"select * from box where location = '{}' and time > now() - {}\".format(location,time_interval)\n",
    "payload = {'db': 'meter', 'u': client, 'p' : p, 'q': query}\n",
    "headers = {'Accept': 'application/csv'}\n",
    "r = requests.get(url, payload, headers=headers)\n"
   ]
  },
  {
   "cell_type": "code",
   "execution_count": null,
   "metadata": {},
   "outputs": [],
   "source": [
    "if r.status_code == 200:\n",
    "    print(r.text)\n",
    "else:\n",
    "    print(r.status_code)"
   ]
  },
  {
   "cell_type": "code",
   "execution_count": null,
   "metadata": {},
   "outputs": [],
   "source": []
  }
 ],
 "metadata": {
  "kernelspec": {
   "display_name": "Python 3",
   "language": "python",
   "name": "python3"
  },
  "language_info": {
   "codemirror_mode": {
    "name": "ipython",
    "version": 3
   },
   "file_extension": ".py",
   "mimetype": "text/x-python",
   "name": "python",
   "nbconvert_exporter": "python",
   "pygments_lexer": "ipython3",
   "version": "3.7.3"
  }
 },
 "nbformat": 4,
 "nbformat_minor": 2
}
